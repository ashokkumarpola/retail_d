{
 "cells": [
  {
   "cell_type": "code",
   "execution_count": 3,
   "metadata": {},
   "outputs": [],
   "source": [
    "from pyspark.sql import SparkSession"
   ]
  },
  {
   "cell_type": "code",
   "execution_count": 4,
   "metadata": {},
   "outputs": [
    {
     "name": "stderr",
     "output_type": "stream",
     "text": [
      "25/02/26 15:24:42 WARN Utils: Your hostname, codespaces-7aea8b resolves to a loopback address: 127.0.0.1; using 10.0.11.44 instead (on interface eth0)\n",
      "25/02/26 15:24:42 WARN Utils: Set SPARK_LOCAL_IP if you need to bind to another address\n",
      "Setting default log level to \"WARN\".\n",
      "To adjust logging level use sc.setLogLevel(newLevel). For SparkR, use setLogLevel(newLevel).\n",
      "25/02/26 15:24:43 WARN NativeCodeLoader: Unable to load native-hadoop library for your platform... using builtin-java classes where applicable\n"
     ]
    }
   ],
   "source": [
    "spark = (SparkSession.builder.appName('spark introduction').master('local[*]').getOrCreate())"
   ]
  },
  {
   "cell_type": "code",
   "execution_count": 5,
   "metadata": {},
   "outputs": [],
   "source": [
    "from pyspark.sql.types import _parse_datatype_string # this is the module used to parse datatypes written in strings and generate spark schema\n",
    "from datetime import date\n",
    "schema_string = 'id int,name string,department string,age int,gender string,salary integer,hire_date date'\n",
    "emp_schema = _parse_datatype_string(schema_string)\n",
    "# Sample Employee Data (40 rows)\n",
    "employee_data = [\n",
    "    (1, \"Alice Johnson\", \"HR\", 29, \"F\", 60000, date(2018, 5, 23)),\n",
    "    (2, \"Bob Smith\", \"Engineering\", 35, \"M\", 80000, date(2016, 7, 19)),\n",
    "    (3, \"Charlie Brown\", \"Finance\", 41, \"M\", 75000, date(2015, 6, 10)),\n",
    "    (4, \"David Wilson\", \"Marketing\", 30, \"M\", 72000, date(2019, 3, 5)),\n",
    "    (5, \"Emma Davis\", \"Sales\", 27, \"F\", 68000, date(2021, 8, 11)),\n",
    "    (6, \"Frank Thomas\", \"HR\", 32, \"M\", 61000, date(2017, 4, 28)),\n",
    "    (7, \"Grace White\", \"Engineering\", 38, \"F\", 82000, date(2014, 9, 15)),\n",
    "    (8, \"Hank Green\", \"Finance\", 45, \"M\", 76000, date(2012, 10, 3)),\n",
    "    (9, \"Ivy Adams\", \"Marketing\", 28, \"F\", 73000, date(2020, 1, 22)),\n",
    "    (10, \"Jack Carter\", \"Sales\", 33, \"M\", 69000, date(2016, 12, 14)),\n",
    "    (11, \"Kevin Scott\", \"HR\", 31, \"M\", 62000, date(2017, 2, 9)),\n",
    "    (12, \"Liam Lewis\", \"Engineering\", 40, \"M\", 83000, date(2013, 7, 20)),\n",
    "    (13, \"Mia Martinez\", \"Finance\", 39, \"F\", 77000, date(2014, 8, 30)),\n",
    "    (14, \"Nathan Walker\", \"Marketing\", 29, \"M\", 74000, date(2019, 5, 12)),\n",
    "    (15, \"Olivia Hall\", \"Sales\", 26, \"F\", 70000, date(2022, 3, 8)),\n",
    "    (16, \"Paul Young\", \"HR\", 37, \"M\", 63000, date(2015, 6, 17)),\n",
    "    (17, \"Quincy King\", \"Engineering\", 34, \"M\", 84000, date(2016, 10, 5)),\n",
    "    (18, \"Rachel Turner\", \"Finance\", 42, \"F\", 78000, date(2012, 11, 23)),\n",
    "    (19, \"Samuel Parker\", \"Marketing\", 30, \"M\", 75000, date(2018, 2, 19)),\n",
    "    (20, \"Tina Evans\", \"Sales\", 28, \"F\", 71000, date(2020, 6, 3)),\n",
    "    (21, \"Umar Brown\", \"HR\", 36, \"M\", 64000, date(2014, 9, 25)),\n",
    "    (22, \"Victor Reed\", \"Engineering\", 33, \"M\", 85000, date(2017, 1, 14)),\n",
    "    (23, \"Wendy Baker\", \"Finance\", 40, \"F\", 79000, date(2013, 12, 9)),\n",
    "    (24, \"Xander Scott\", \"Marketing\", 31, \"M\", 76000, date(2019, 4, 28)),\n",
    "    (25, \"Yasmine Hughes\", \"Sales\", 27, \"F\", 72000, date(2021, 5, 21)),\n",
    "    (26, \"Zack Foster\", \"HR\", 39, \"M\", 65000, date(2013, 3, 14)),\n",
    "    (27, \"Ava Cooper\", \"Engineering\", 32, \"F\", 86000, date(2018, 9, 16)),\n",
    "    (28, \"Ben Garcia\", \"Finance\", 37, \"M\", 80000, date(2015, 10, 7)),\n",
    "    (29, \"Catherine Lopez\", \"Marketing\", 28, \"F\", 77000, date(2020, 2, 11)),\n",
    "    (30, \"Daniel Mitchell\", \"Sales\", 35, \"M\", 73000, date(2017, 11, 30)),\n",
    "    (31, \"Eliza Robinson\", \"HR\", 31, \"F\", 66000, date(2018, 7, 18)),\n",
    "    (32, \"Felix Turner\", \"Engineering\", 45, \"M\", 87000, date(2012, 6, 4)),\n",
    "    (33, \"Gabriella Adams\", \"Finance\", 29, \"F\", 81000, date(2019, 8, 20)),\n",
    "    (34, \"Henry White\", \"Marketing\", 41, \"M\", 78000, date(2014, 5, 14)),\n",
    "    (35, \"Isla Collins\", \"Sales\", 30, \"F\", 74000, date(2020, 4, 9)),\n",
    "    (36, \"Jacob Rivera\", \"HR\", 38, \"M\", 67000, date(2016, 1, 23)),\n",
    "    (37, \"Katie Bell\", \"Engineering\", 33, \"F\", 88000, date(2018, 10, 6)),\n",
    "    (38, \"Leo Scott\", \"Finance\", 42, \"M\", 82000, date(2013, 9, 12)),\n",
    "    (39, \"Megan Foster\", \"Marketing\", 31, \"F\", 79000, date(2019, 11, 27)),\n",
    "    (40, \"Noah Carter\", \"Sales\", 28, \"M\", 75000, date(2021, 12, 1))\n",
    "]"
   ]
  },
  {
   "cell_type": "code",
   "execution_count": 6,
   "metadata": {},
   "outputs": [],
   "source": [
    "df = spark.createDataFrame(data=employee_data,schema=emp_schema)"
   ]
  },
  {
   "cell_type": "code",
   "execution_count": 7,
   "metadata": {},
   "outputs": [
    {
     "data": {
      "text/plain": [
       "2"
      ]
     },
     "execution_count": 7,
     "metadata": {},
     "output_type": "execute_result"
    }
   ],
   "source": [
    "df.rdd.getNumPartitions()"
   ]
  },
  {
   "cell_type": "code",
   "execution_count": 8,
   "metadata": {},
   "outputs": [
    {
     "name": "stderr",
     "output_type": "stream",
     "text": [
      "                                                                                \r"
     ]
    },
    {
     "name": "stdout",
     "output_type": "stream",
     "text": [
      "+---+-------------+-----------+---+------+------+----------+\n",
      "| id|         name| department|age|gender|salary| hire_date|\n",
      "+---+-------------+-----------+---+------+------+----------+\n",
      "|  1|Alice Johnson|         HR| 29|     F| 60000|2018-05-23|\n",
      "|  2|    Bob Smith|Engineering| 35|     M| 80000|2016-07-19|\n",
      "|  3|Charlie Brown|    Finance| 41|     M| 75000|2015-06-10|\n",
      "|  4| David Wilson|  Marketing| 30|     M| 72000|2019-03-05|\n",
      "|  5|   Emma Davis|      Sales| 27|     F| 68000|2021-08-11|\n",
      "|  6| Frank Thomas|         HR| 32|     M| 61000|2017-04-28|\n",
      "|  7|  Grace White|Engineering| 38|     F| 82000|2014-09-15|\n",
      "|  8|   Hank Green|    Finance| 45|     M| 76000|2012-10-03|\n",
      "|  9|    Ivy Adams|  Marketing| 28|     F| 73000|2020-01-22|\n",
      "| 10|  Jack Carter|      Sales| 33|     M| 69000|2016-12-14|\n",
      "| 11|  Kevin Scott|         HR| 31|     M| 62000|2017-02-09|\n",
      "| 12|   Liam Lewis|Engineering| 40|     M| 83000|2013-07-20|\n",
      "| 13| Mia Martinez|    Finance| 39|     F| 77000|2014-08-30|\n",
      "| 14|Nathan Walker|  Marketing| 29|     M| 74000|2019-05-12|\n",
      "| 15|  Olivia Hall|      Sales| 26|     F| 70000|2022-03-08|\n",
      "| 16|   Paul Young|         HR| 37|     M| 63000|2015-06-17|\n",
      "| 17|  Quincy King|Engineering| 34|     M| 84000|2016-10-05|\n",
      "| 18|Rachel Turner|    Finance| 42|     F| 78000|2012-11-23|\n",
      "| 19|Samuel Parker|  Marketing| 30|     M| 75000|2018-02-19|\n",
      "| 20|   Tina Evans|      Sales| 28|     F| 71000|2020-06-03|\n",
      "+---+-------------+-----------+---+------+------+----------+\n",
      "only showing top 20 rows\n",
      "\n"
     ]
    }
   ],
   "source": [
    "df.show()"
   ]
  },
  {
   "cell_type": "code",
   "execution_count": 9,
   "metadata": {},
   "outputs": [
    {
     "name": "stdout",
     "output_type": "stream",
     "text": [
      "root\n",
      " |-- id: integer (nullable = true)\n",
      " |-- name: string (nullable = true)\n",
      " |-- department: string (nullable = true)\n",
      " |-- age: integer (nullable = true)\n",
      " |-- gender: string (nullable = true)\n",
      " |-- salary: integer (nullable = true)\n",
      " |-- hire_date: date (nullable = true)\n",
      "\n"
     ]
    }
   ],
   "source": [
    "#printSchema\n",
    "df.printSchema()"
   ]
  },
  {
   "cell_type": "code",
   "execution_count": 10,
   "metadata": {},
   "outputs": [],
   "source": [
    "#casting columns\n",
    "#select id,name,age,cast(salary as double) as salary from df\n",
    "#emp_casted = df.selectExpr('id','name','age','cast(salary as double) as salary')\n",
    "#another way of casting\n",
    "from pyspark.sql.functions import col,cast\n",
    "emp_casted_1 = df.select('id','name','age',col('salary').cast('double'))"
   ]
  },
  {
   "cell_type": "code",
   "execution_count": 11,
   "metadata": {},
   "outputs": [
    {
     "name": "stdout",
     "output_type": "stream",
     "text": [
      "root\n",
      " |-- id: integer (nullable = true)\n",
      " |-- name: string (nullable = true)\n",
      " |-- age: integer (nullable = true)\n",
      " |-- salary: double (nullable = true)\n",
      "\n"
     ]
    }
   ],
   "source": [
    "emp_casted_1.printSchema()"
   ]
  },
  {
   "cell_type": "code",
   "execution_count": 12,
   "metadata": {},
   "outputs": [],
   "source": [
    "#adding columns\n",
    "#select id,name,age,salary,(salary*0.2) as tax from emp\n",
    "emp_taxed = emp_casted_1.withColumn('tax',col('salary')*0.2)\n"
   ]
  },
  {
   "cell_type": "code",
   "execution_count": 13,
   "metadata": {},
   "outputs": [
    {
     "name": "stdout",
     "output_type": "stream",
     "text": [
      "+---+-------------+---+-------+-------+\n",
      "| id|         name|age| salary|    tax|\n",
      "+---+-------------+---+-------+-------+\n",
      "|  1|Alice Johnson| 29|60000.0|12000.0|\n",
      "|  2|    Bob Smith| 35|80000.0|16000.0|\n",
      "|  3|Charlie Brown| 41|75000.0|15000.0|\n",
      "|  4| David Wilson| 30|72000.0|14400.0|\n",
      "|  5|   Emma Davis| 27|68000.0|13600.0|\n",
      "|  6| Frank Thomas| 32|61000.0|12200.0|\n",
      "|  7|  Grace White| 38|82000.0|16400.0|\n",
      "|  8|   Hank Green| 45|76000.0|15200.0|\n",
      "|  9|    Ivy Adams| 28|73000.0|14600.0|\n",
      "| 10|  Jack Carter| 33|69000.0|13800.0|\n",
      "| 11|  Kevin Scott| 31|62000.0|12400.0|\n",
      "| 12|   Liam Lewis| 40|83000.0|16600.0|\n",
      "| 13| Mia Martinez| 39|77000.0|15400.0|\n",
      "| 14|Nathan Walker| 29|74000.0|14800.0|\n",
      "| 15|  Olivia Hall| 26|70000.0|14000.0|\n",
      "| 16|   Paul Young| 37|63000.0|12600.0|\n",
      "| 17|  Quincy King| 34|84000.0|16800.0|\n",
      "| 18|Rachel Turner| 42|78000.0|15600.0|\n",
      "| 19|Samuel Parker| 30|75000.0|15000.0|\n",
      "| 20|   Tina Evans| 28|71000.0|14200.0|\n",
      "+---+-------------+---+-------+-------+\n",
      "only showing top 20 rows\n",
      "\n"
     ]
    }
   ],
   "source": [
    "emp_taxed.show()"
   ]
  },
  {
   "cell_type": "code",
   "execution_count": 14,
   "metadata": {},
   "outputs": [],
   "source": [
    "#adding static values as column values to dataset\n",
    "#literals\n",
    "#select id,name,age,salary,tax,1 as columnone,'two' as columntwo from emp_tax\n",
    "from pyspark.sql.functions import lit\n",
    "emp_new_cols = emp_taxed.withColumn('coumnone',lit(1)).withColumn('columntwo',lit('two'))"
   ]
  },
  {
   "cell_type": "code",
   "execution_count": 15,
   "metadata": {},
   "outputs": [
    {
     "name": "stdout",
     "output_type": "stream",
     "text": [
      "+---+-------------+---+-------+-------+--------+---------+\n",
      "| id|         name|age| salary|    tax|coumnone|columntwo|\n",
      "+---+-------------+---+-------+-------+--------+---------+\n",
      "|  1|Alice Johnson| 29|60000.0|12000.0|       1|      two|\n",
      "|  2|    Bob Smith| 35|80000.0|16000.0|       1|      two|\n",
      "|  3|Charlie Brown| 41|75000.0|15000.0|       1|      two|\n",
      "|  4| David Wilson| 30|72000.0|14400.0|       1|      two|\n",
      "|  5|   Emma Davis| 27|68000.0|13600.0|       1|      two|\n",
      "|  6| Frank Thomas| 32|61000.0|12200.0|       1|      two|\n",
      "|  7|  Grace White| 38|82000.0|16400.0|       1|      two|\n",
      "|  8|   Hank Green| 45|76000.0|15200.0|       1|      two|\n",
      "|  9|    Ivy Adams| 28|73000.0|14600.0|       1|      two|\n",
      "| 10|  Jack Carter| 33|69000.0|13800.0|       1|      two|\n",
      "| 11|  Kevin Scott| 31|62000.0|12400.0|       1|      two|\n",
      "| 12|   Liam Lewis| 40|83000.0|16600.0|       1|      two|\n",
      "| 13| Mia Martinez| 39|77000.0|15400.0|       1|      two|\n",
      "| 14|Nathan Walker| 29|74000.0|14800.0|       1|      two|\n",
      "| 15|  Olivia Hall| 26|70000.0|14000.0|       1|      two|\n",
      "| 16|   Paul Young| 37|63000.0|12600.0|       1|      two|\n",
      "| 17|  Quincy King| 34|84000.0|16800.0|       1|      two|\n",
      "| 18|Rachel Turner| 42|78000.0|15600.0|       1|      two|\n",
      "| 19|Samuel Parker| 30|75000.0|15000.0|       1|      two|\n",
      "| 20|   Tina Evans| 28|71000.0|14200.0|       1|      two|\n",
      "+---+-------------+---+-------+-------+--------+---------+\n",
      "only showing top 20 rows\n",
      "\n"
     ]
    }
   ],
   "source": [
    "emp_new_cols.show()"
   ]
  },
  {
   "cell_type": "code",
   "execution_count": 16,
   "metadata": {},
   "outputs": [],
   "source": [
    "#renaming columns\n",
    "#select id as emp_id,age,name,salary,tax,columnone,columntwo from emp_new_cols\n",
    "emp_renmaed = emp_new_cols.withColumnRenamed('id','emp_id')"
   ]
  },
  {
   "cell_type": "code",
   "execution_count": 17,
   "metadata": {},
   "outputs": [
    {
     "name": "stdout",
     "output_type": "stream",
     "text": [
      "+------+-------------+---+-------+-------+--------+---------+\n",
      "|emp_id|         name|age| salary|    tax|coumnone|columntwo|\n",
      "+------+-------------+---+-------+-------+--------+---------+\n",
      "|     1|Alice Johnson| 29|60000.0|12000.0|       1|      two|\n",
      "|     2|    Bob Smith| 35|80000.0|16000.0|       1|      two|\n",
      "|     3|Charlie Brown| 41|75000.0|15000.0|       1|      two|\n",
      "|     4| David Wilson| 30|72000.0|14400.0|       1|      two|\n",
      "|     5|   Emma Davis| 27|68000.0|13600.0|       1|      two|\n",
      "|     6| Frank Thomas| 32|61000.0|12200.0|       1|      two|\n",
      "|     7|  Grace White| 38|82000.0|16400.0|       1|      two|\n",
      "|     8|   Hank Green| 45|76000.0|15200.0|       1|      two|\n",
      "|     9|    Ivy Adams| 28|73000.0|14600.0|       1|      two|\n",
      "|    10|  Jack Carter| 33|69000.0|13800.0|       1|      two|\n",
      "|    11|  Kevin Scott| 31|62000.0|12400.0|       1|      two|\n",
      "|    12|   Liam Lewis| 40|83000.0|16600.0|       1|      two|\n",
      "|    13| Mia Martinez| 39|77000.0|15400.0|       1|      two|\n",
      "|    14|Nathan Walker| 29|74000.0|14800.0|       1|      two|\n",
      "|    15|  Olivia Hall| 26|70000.0|14000.0|       1|      two|\n",
      "|    16|   Paul Young| 37|63000.0|12600.0|       1|      two|\n",
      "|    17|  Quincy King| 34|84000.0|16800.0|       1|      two|\n",
      "|    18|Rachel Turner| 42|78000.0|15600.0|       1|      two|\n",
      "|    19|Samuel Parker| 30|75000.0|15000.0|       1|      two|\n",
      "|    20|   Tina Evans| 28|71000.0|14200.0|       1|      two|\n",
      "+------+-------------+---+-------+-------+--------+---------+\n",
      "only showing top 20 rows\n",
      "\n"
     ]
    }
   ],
   "source": [
    "emp_renmaed.show()"
   ]
  },
  {
   "cell_type": "code",
   "execution_count": 18,
   "metadata": {},
   "outputs": [],
   "source": [
    "#remove columns\n",
    "emp_dropped = emp_renmaed.drop('columntwo')"
   ]
  },
  {
   "cell_type": "code",
   "execution_count": 19,
   "metadata": {},
   "outputs": [
    {
     "name": "stdout",
     "output_type": "stream",
     "text": [
      "+------+-------------+---+-------+-------+--------+\n",
      "|emp_id|         name|age| salary|    tax|coumnone|\n",
      "+------+-------------+---+-------+-------+--------+\n",
      "|     1|Alice Johnson| 29|60000.0|12000.0|       1|\n",
      "|     2|    Bob Smith| 35|80000.0|16000.0|       1|\n",
      "|     3|Charlie Brown| 41|75000.0|15000.0|       1|\n",
      "|     4| David Wilson| 30|72000.0|14400.0|       1|\n",
      "|     5|   Emma Davis| 27|68000.0|13600.0|       1|\n",
      "|     6| Frank Thomas| 32|61000.0|12200.0|       1|\n",
      "|     7|  Grace White| 38|82000.0|16400.0|       1|\n",
      "|     8|   Hank Green| 45|76000.0|15200.0|       1|\n",
      "|     9|    Ivy Adams| 28|73000.0|14600.0|       1|\n",
      "|    10|  Jack Carter| 33|69000.0|13800.0|       1|\n",
      "|    11|  Kevin Scott| 31|62000.0|12400.0|       1|\n",
      "|    12|   Liam Lewis| 40|83000.0|16600.0|       1|\n",
      "|    13| Mia Martinez| 39|77000.0|15400.0|       1|\n",
      "|    14|Nathan Walker| 29|74000.0|14800.0|       1|\n",
      "|    15|  Olivia Hall| 26|70000.0|14000.0|       1|\n",
      "|    16|   Paul Young| 37|63000.0|12600.0|       1|\n",
      "|    17|  Quincy King| 34|84000.0|16800.0|       1|\n",
      "|    18|Rachel Turner| 42|78000.0|15600.0|       1|\n",
      "|    19|Samuel Parker| 30|75000.0|15000.0|       1|\n",
      "|    20|   Tina Evans| 28|71000.0|14200.0|       1|\n",
      "+------+-------------+---+-------+-------+--------+\n",
      "only showing top 20 rows\n",
      "\n"
     ]
    }
   ],
   "source": [
    "emp_dropped.show()"
   ]
  },
  {
   "cell_type": "code",
   "execution_count": 20,
   "metadata": {},
   "outputs": [],
   "source": [
    "#filter data\n",
    "emp_filtered = emp_dropped.where('tax > 10000')"
   ]
  },
  {
   "cell_type": "code",
   "execution_count": 21,
   "metadata": {},
   "outputs": [
    {
     "name": "stdout",
     "output_type": "stream",
     "text": [
      "+------+-------------+---+-------+-------+--------+\n",
      "|emp_id|         name|age| salary|    tax|coumnone|\n",
      "+------+-------------+---+-------+-------+--------+\n",
      "|     1|Alice Johnson| 29|60000.0|12000.0|       1|\n",
      "|     2|    Bob Smith| 35|80000.0|16000.0|       1|\n",
      "|     3|Charlie Brown| 41|75000.0|15000.0|       1|\n",
      "|     4| David Wilson| 30|72000.0|14400.0|       1|\n",
      "|     5|   Emma Davis| 27|68000.0|13600.0|       1|\n",
      "|     6| Frank Thomas| 32|61000.0|12200.0|       1|\n",
      "|     7|  Grace White| 38|82000.0|16400.0|       1|\n",
      "|     8|   Hank Green| 45|76000.0|15200.0|       1|\n",
      "|     9|    Ivy Adams| 28|73000.0|14600.0|       1|\n",
      "|    10|  Jack Carter| 33|69000.0|13800.0|       1|\n",
      "|    11|  Kevin Scott| 31|62000.0|12400.0|       1|\n",
      "|    12|   Liam Lewis| 40|83000.0|16600.0|       1|\n",
      "|    13| Mia Martinez| 39|77000.0|15400.0|       1|\n",
      "|    14|Nathan Walker| 29|74000.0|14800.0|       1|\n",
      "|    15|  Olivia Hall| 26|70000.0|14000.0|       1|\n",
      "|    16|   Paul Young| 37|63000.0|12600.0|       1|\n",
      "|    17|  Quincy King| 34|84000.0|16800.0|       1|\n",
      "|    18|Rachel Turner| 42|78000.0|15600.0|       1|\n",
      "|    19|Samuel Parker| 30|75000.0|15000.0|       1|\n",
      "|    20|   Tina Evans| 28|71000.0|14200.0|       1|\n",
      "+------+-------------+---+-------+-------+--------+\n",
      "only showing top 20 rows\n",
      "\n"
     ]
    }
   ],
   "source": [
    "emp_filtered.show()"
   ]
  },
  {
   "cell_type": "code",
   "execution_count": 22,
   "metadata": {},
   "outputs": [],
   "source": [
    "#limit\n",
    "emp_limit = emp_filtered.limit(5)"
   ]
  },
  {
   "cell_type": "code",
   "execution_count": 23,
   "metadata": {},
   "outputs": [
    {
     "name": "stdout",
     "output_type": "stream",
     "text": [
      "+------+-------------+---+-------+-------+--------+\n",
      "|emp_id|         name|age| salary|    tax|coumnone|\n",
      "+------+-------------+---+-------+-------+--------+\n",
      "|     1|Alice Johnson| 29|60000.0|12000.0|       1|\n",
      "|     2|    Bob Smith| 35|80000.0|16000.0|       1|\n",
      "|     3|Charlie Brown| 41|75000.0|15000.0|       1|\n",
      "|     4| David Wilson| 30|72000.0|14400.0|       1|\n",
      "|     5|   Emma Davis| 27|68000.0|13600.0|       1|\n",
      "+------+-------------+---+-------+-------+--------+\n",
      "\n"
     ]
    }
   ],
   "source": [
    "emp_limit.show()"
   ]
  },
  {
   "cell_type": "code",
   "execution_count": 24,
   "metadata": {},
   "outputs": [],
   "source": [
    "#case when\n",
    "#select emp_id,name,age,salary,department,gender,\n",
    "#case when gender = 'male then 'M' when gender = 'Female' then 'F' else null end as new_gender,hire_date from emp\n",
    "from pyspark.sql.functions import when\n",
    "emp_fixed_gender = df.withColumn('new_gender',when(col('gender')=='M','Male').\n",
    "                                 when(col('gender')=='F','Female')\n",
    "                                 .otherwise(None))"
   ]
  },
  {
   "cell_type": "code",
   "execution_count": 25,
   "metadata": {},
   "outputs": [
    {
     "name": "stdout",
     "output_type": "stream",
     "text": [
      "+---+-------------+-----------+---+------+------+----------+----------+\n",
      "| id|         name| department|age|gender|salary| hire_date|new_gender|\n",
      "+---+-------------+-----------+---+------+------+----------+----------+\n",
      "|  1|Alice Johnson|         HR| 29|     F| 60000|2018-05-23|    Female|\n",
      "|  2|    Bob Smith|Engineering| 35|     M| 80000|2016-07-19|      Male|\n",
      "|  3|Charlie Brown|    Finance| 41|     M| 75000|2015-06-10|      Male|\n",
      "|  4| David Wilson|  Marketing| 30|     M| 72000|2019-03-05|      Male|\n",
      "|  5|   Emma Davis|      Sales| 27|     F| 68000|2021-08-11|    Female|\n",
      "|  6| Frank Thomas|         HR| 32|     M| 61000|2017-04-28|      Male|\n",
      "|  7|  Grace White|Engineering| 38|     F| 82000|2014-09-15|    Female|\n",
      "|  8|   Hank Green|    Finance| 45|     M| 76000|2012-10-03|      Male|\n",
      "|  9|    Ivy Adams|  Marketing| 28|     F| 73000|2020-01-22|    Female|\n",
      "| 10|  Jack Carter|      Sales| 33|     M| 69000|2016-12-14|      Male|\n",
      "| 11|  Kevin Scott|         HR| 31|     M| 62000|2017-02-09|      Male|\n",
      "| 12|   Liam Lewis|Engineering| 40|     M| 83000|2013-07-20|      Male|\n",
      "| 13| Mia Martinez|    Finance| 39|     F| 77000|2014-08-30|    Female|\n",
      "| 14|Nathan Walker|  Marketing| 29|     M| 74000|2019-05-12|      Male|\n",
      "| 15|  Olivia Hall|      Sales| 26|     F| 70000|2022-03-08|    Female|\n",
      "| 16|   Paul Young|         HR| 37|     M| 63000|2015-06-17|      Male|\n",
      "| 17|  Quincy King|Engineering| 34|     M| 84000|2016-10-05|      Male|\n",
      "| 18|Rachel Turner|    Finance| 42|     F| 78000|2012-11-23|    Female|\n",
      "| 19|Samuel Parker|  Marketing| 30|     M| 75000|2018-02-19|      Male|\n",
      "| 20|   Tina Evans|      Sales| 28|     F| 71000|2020-06-03|    Female|\n",
      "+---+-------------+-----------+---+------+------+----------+----------+\n",
      "only showing top 20 rows\n",
      "\n"
     ]
    }
   ],
   "source": [
    "emp_fixed_gender.show()"
   ]
  },
  {
   "cell_type": "code",
   "execution_count": 26,
   "metadata": {},
   "outputs": [],
   "source": [
    "#replace in strings\n",
    "#select employee_id, name, replace(name, 'J', 'Z') as new_name, age, salary, gender, new_gender, hire_date from emp_gender_fixed\n",
    "from pyspark.sql.functions import regexp_replace\n",
    "emp_name_fixed = emp_fixed_gender.withColumn('new_name',regexp_replace(col('name'),'J','Z'))"
   ]
  },
  {
   "cell_type": "code",
   "execution_count": 27,
   "metadata": {},
   "outputs": [
    {
     "name": "stdout",
     "output_type": "stream",
     "text": [
      "+---+-------------+-----------+---+------+------+----------+----------+-------------+\n",
      "| id|         name| department|age|gender|salary| hire_date|new_gender|     new_name|\n",
      "+---+-------------+-----------+---+------+------+----------+----------+-------------+\n",
      "|  1|Alice Johnson|         HR| 29|     F| 60000|2018-05-23|    Female|Alice Zohnson|\n",
      "|  2|    Bob Smith|Engineering| 35|     M| 80000|2016-07-19|      Male|    Bob Smith|\n",
      "|  3|Charlie Brown|    Finance| 41|     M| 75000|2015-06-10|      Male|Charlie Brown|\n",
      "|  4| David Wilson|  Marketing| 30|     M| 72000|2019-03-05|      Male| David Wilson|\n",
      "|  5|   Emma Davis|      Sales| 27|     F| 68000|2021-08-11|    Female|   Emma Davis|\n",
      "|  6| Frank Thomas|         HR| 32|     M| 61000|2017-04-28|      Male| Frank Thomas|\n",
      "|  7|  Grace White|Engineering| 38|     F| 82000|2014-09-15|    Female|  Grace White|\n",
      "|  8|   Hank Green|    Finance| 45|     M| 76000|2012-10-03|      Male|   Hank Green|\n",
      "|  9|    Ivy Adams|  Marketing| 28|     F| 73000|2020-01-22|    Female|    Ivy Adams|\n",
      "| 10|  Jack Carter|      Sales| 33|     M| 69000|2016-12-14|      Male|  Zack Carter|\n",
      "| 11|  Kevin Scott|         HR| 31|     M| 62000|2017-02-09|      Male|  Kevin Scott|\n",
      "| 12|   Liam Lewis|Engineering| 40|     M| 83000|2013-07-20|      Male|   Liam Lewis|\n",
      "| 13| Mia Martinez|    Finance| 39|     F| 77000|2014-08-30|    Female| Mia Martinez|\n",
      "| 14|Nathan Walker|  Marketing| 29|     M| 74000|2019-05-12|      Male|Nathan Walker|\n",
      "| 15|  Olivia Hall|      Sales| 26|     F| 70000|2022-03-08|    Female|  Olivia Hall|\n",
      "| 16|   Paul Young|         HR| 37|     M| 63000|2015-06-17|      Male|   Paul Young|\n",
      "| 17|  Quincy King|Engineering| 34|     M| 84000|2016-10-05|      Male|  Quincy King|\n",
      "| 18|Rachel Turner|    Finance| 42|     F| 78000|2012-11-23|    Female|Rachel Turner|\n",
      "| 19|Samuel Parker|  Marketing| 30|     M| 75000|2018-02-19|      Male|Samuel Parker|\n",
      "| 20|   Tina Evans|      Sales| 28|     F| 71000|2020-06-03|    Female|   Tina Evans|\n",
      "+---+-------------+-----------+---+------+------+----------+----------+-------------+\n",
      "only showing top 20 rows\n",
      "\n"
     ]
    }
   ],
   "source": [
    "emp_name_fixed.show()"
   ]
  },
  {
   "cell_type": "code",
   "execution_count": 29,
   "metadata": {},
   "outputs": [],
   "source": [
    "# Convert Date\n",
    "# select *,  to_date(hire_date, 'YYYY-MM-DD') as hire_date from emp_name_fixed\n",
    "from pyspark.sql.functions import to_date\n",
    "emp_date_fix = emp_name_fixed.withColumn(\"hire_date\", to_date(col(\"hire_date\"), 'yyyy-MM-dd'))"
   ]
  },
  {
   "cell_type": "code",
   "execution_count": 30,
   "metadata": {},
   "outputs": [
    {
     "name": "stdout",
     "output_type": "stream",
     "text": [
      "+---+-------------+-----------+---+------+------+----------+----------+-------------+\n",
      "| id|         name| department|age|gender|salary| hire_date|new_gender|     new_name|\n",
      "+---+-------------+-----------+---+------+------+----------+----------+-------------+\n",
      "|  1|Alice Johnson|         HR| 29|     F| 60000|2018-05-23|    Female|Alice Zohnson|\n",
      "|  2|    Bob Smith|Engineering| 35|     M| 80000|2016-07-19|      Male|    Bob Smith|\n",
      "|  3|Charlie Brown|    Finance| 41|     M| 75000|2015-06-10|      Male|Charlie Brown|\n",
      "|  4| David Wilson|  Marketing| 30|     M| 72000|2019-03-05|      Male| David Wilson|\n",
      "|  5|   Emma Davis|      Sales| 27|     F| 68000|2021-08-11|    Female|   Emma Davis|\n",
      "|  6| Frank Thomas|         HR| 32|     M| 61000|2017-04-28|      Male| Frank Thomas|\n",
      "|  7|  Grace White|Engineering| 38|     F| 82000|2014-09-15|    Female|  Grace White|\n",
      "|  8|   Hank Green|    Finance| 45|     M| 76000|2012-10-03|      Male|   Hank Green|\n",
      "|  9|    Ivy Adams|  Marketing| 28|     F| 73000|2020-01-22|    Female|    Ivy Adams|\n",
      "| 10|  Jack Carter|      Sales| 33|     M| 69000|2016-12-14|      Male|  Zack Carter|\n",
      "| 11|  Kevin Scott|         HR| 31|     M| 62000|2017-02-09|      Male|  Kevin Scott|\n",
      "| 12|   Liam Lewis|Engineering| 40|     M| 83000|2013-07-20|      Male|   Liam Lewis|\n",
      "| 13| Mia Martinez|    Finance| 39|     F| 77000|2014-08-30|    Female| Mia Martinez|\n",
      "| 14|Nathan Walker|  Marketing| 29|     M| 74000|2019-05-12|      Male|Nathan Walker|\n",
      "| 15|  Olivia Hall|      Sales| 26|     F| 70000|2022-03-08|    Female|  Olivia Hall|\n",
      "| 16|   Paul Young|         HR| 37|     M| 63000|2015-06-17|      Male|   Paul Young|\n",
      "| 17|  Quincy King|Engineering| 34|     M| 84000|2016-10-05|      Male|  Quincy King|\n",
      "| 18|Rachel Turner|    Finance| 42|     F| 78000|2012-11-23|    Female|Rachel Turner|\n",
      "| 19|Samuel Parker|  Marketing| 30|     M| 75000|2018-02-19|      Male|Samuel Parker|\n",
      "| 20|   Tina Evans|      Sales| 28|     F| 71000|2020-06-03|    Female|   Tina Evans|\n",
      "+---+-------------+-----------+---+------+------+----------+----------+-------------+\n",
      "only showing top 20 rows\n",
      "\n"
     ]
    }
   ],
   "source": [
    "emp_date_fix.show()"
   ]
  },
  {
   "cell_type": "code",
   "execution_count": 31,
   "metadata": {},
   "outputs": [
    {
     "name": "stdout",
     "output_type": "stream",
     "text": [
      "root\n",
      " |-- id: integer (nullable = true)\n",
      " |-- name: string (nullable = true)\n",
      " |-- department: string (nullable = true)\n",
      " |-- age: integer (nullable = true)\n",
      " |-- gender: string (nullable = true)\n",
      " |-- salary: integer (nullable = true)\n",
      " |-- hire_date: date (nullable = true)\n",
      " |-- new_gender: string (nullable = true)\n",
      " |-- new_name: string (nullable = true)\n",
      "\n"
     ]
    }
   ],
   "source": [
    "emp_date_fix.printSchema()"
   ]
  },
  {
   "cell_type": "code",
   "execution_count": 33,
   "metadata": {},
   "outputs": [],
   "source": [
    "# Add Date Columns\n",
    "# Add current_date, current_timestamp, extract year from hire_date\n",
    "from pyspark.sql.functions import current_date, current_timestamp\n",
    "columns = {\"date_now\":current_date(),\n",
    "           \"timestamp_now\":current_timestamp()}\n",
    "\n",
    "emp_dated = emp_date_fix.withColumns(columns)"
   ]
  },
  {
   "cell_type": "code",
   "execution_count": 35,
   "metadata": {},
   "outputs": [
    {
     "name": "stdout",
     "output_type": "stream",
     "text": [
      "+---+-------------+-----------+---+------+------+----------+----------+-------------+----------+--------------------------+\n",
      "|id |name         |department |age|gender|salary|hire_date |new_gender|new_name     |date_now  |timestamp_now             |\n",
      "+---+-------------+-----------+---+------+------+----------+----------+-------------+----------+--------------------------+\n",
      "|1  |Alice Johnson|HR         |29 |F     |60000 |2018-05-23|Female    |Alice Zohnson|2025-02-26|2025-02-26 15:49:28.539124|\n",
      "|2  |Bob Smith    |Engineering|35 |M     |80000 |2016-07-19|Male      |Bob Smith    |2025-02-26|2025-02-26 15:49:28.539124|\n",
      "|3  |Charlie Brown|Finance    |41 |M     |75000 |2015-06-10|Male      |Charlie Brown|2025-02-26|2025-02-26 15:49:28.539124|\n",
      "|4  |David Wilson |Marketing  |30 |M     |72000 |2019-03-05|Male      |David Wilson |2025-02-26|2025-02-26 15:49:28.539124|\n",
      "|5  |Emma Davis   |Sales      |27 |F     |68000 |2021-08-11|Female    |Emma Davis   |2025-02-26|2025-02-26 15:49:28.539124|\n",
      "|6  |Frank Thomas |HR         |32 |M     |61000 |2017-04-28|Male      |Frank Thomas |2025-02-26|2025-02-26 15:49:28.539124|\n",
      "|7  |Grace White  |Engineering|38 |F     |82000 |2014-09-15|Female    |Grace White  |2025-02-26|2025-02-26 15:49:28.539124|\n",
      "|8  |Hank Green   |Finance    |45 |M     |76000 |2012-10-03|Male      |Hank Green   |2025-02-26|2025-02-26 15:49:28.539124|\n",
      "|9  |Ivy Adams    |Marketing  |28 |F     |73000 |2020-01-22|Female    |Ivy Adams    |2025-02-26|2025-02-26 15:49:28.539124|\n",
      "|10 |Jack Carter  |Sales      |33 |M     |69000 |2016-12-14|Male      |Zack Carter  |2025-02-26|2025-02-26 15:49:28.539124|\n",
      "|11 |Kevin Scott  |HR         |31 |M     |62000 |2017-02-09|Male      |Kevin Scott  |2025-02-26|2025-02-26 15:49:28.539124|\n",
      "|12 |Liam Lewis   |Engineering|40 |M     |83000 |2013-07-20|Male      |Liam Lewis   |2025-02-26|2025-02-26 15:49:28.539124|\n",
      "|13 |Mia Martinez |Finance    |39 |F     |77000 |2014-08-30|Female    |Mia Martinez |2025-02-26|2025-02-26 15:49:28.539124|\n",
      "|14 |Nathan Walker|Marketing  |29 |M     |74000 |2019-05-12|Male      |Nathan Walker|2025-02-26|2025-02-26 15:49:28.539124|\n",
      "|15 |Olivia Hall  |Sales      |26 |F     |70000 |2022-03-08|Female    |Olivia Hall  |2025-02-26|2025-02-26 15:49:28.539124|\n",
      "|16 |Paul Young   |HR         |37 |M     |63000 |2015-06-17|Male      |Paul Young   |2025-02-26|2025-02-26 15:49:28.539124|\n",
      "|17 |Quincy King  |Engineering|34 |M     |84000 |2016-10-05|Male      |Quincy King  |2025-02-26|2025-02-26 15:49:28.539124|\n",
      "|18 |Rachel Turner|Finance    |42 |F     |78000 |2012-11-23|Female    |Rachel Turner|2025-02-26|2025-02-26 15:49:28.539124|\n",
      "|19 |Samuel Parker|Marketing  |30 |M     |75000 |2018-02-19|Male      |Samuel Parker|2025-02-26|2025-02-26 15:49:28.539124|\n",
      "|20 |Tina Evans   |Sales      |28 |F     |71000 |2020-06-03|Female    |Tina Evans   |2025-02-26|2025-02-26 15:49:28.539124|\n",
      "+---+-------------+-----------+---+------+------+----------+----------+-------------+----------+--------------------------+\n",
      "only showing top 20 rows\n",
      "\n"
     ]
    }
   ],
   "source": [
    "emp_dated.show(truncate=False)"
   ]
  },
  {
   "cell_type": "code",
   "execution_count": 37,
   "metadata": {},
   "outputs": [
    {
     "name": "stdout",
     "output_type": "stream",
     "text": [
      "+---+-------------+-----------+---+------+------+----------+----------+-------------+----------+--------------------+\n",
      "| id|         name| department|age|gender|salary| hire_date|new_gender|     new_name|  date_now|       timestamp_now|\n",
      "+---+-------------+-----------+---+------+------+----------+----------+-------------+----------+--------------------+\n",
      "|  1|Alice Johnson|         HR| 29|     F| 60000|2018-05-23|    Female|Alice Zohnson|2025-02-26|2025-02-26 15:52:...|\n",
      "|  2|    Bob Smith|Engineering| 35|     M| 80000|2016-07-19|      Male|    Bob Smith|2025-02-26|2025-02-26 15:52:...|\n",
      "|  3|Charlie Brown|    Finance| 41|     M| 75000|2015-06-10|      Male|Charlie Brown|2025-02-26|2025-02-26 15:52:...|\n",
      "|  4| David Wilson|  Marketing| 30|     M| 72000|2019-03-05|      Male| David Wilson|2025-02-26|2025-02-26 15:52:...|\n",
      "|  5|   Emma Davis|      Sales| 27|     F| 68000|2021-08-11|    Female|   Emma Davis|2025-02-26|2025-02-26 15:52:...|\n",
      "|  6| Frank Thomas|         HR| 32|     M| 61000|2017-04-28|      Male| Frank Thomas|2025-02-26|2025-02-26 15:52:...|\n",
      "|  7|  Grace White|Engineering| 38|     F| 82000|2014-09-15|    Female|  Grace White|2025-02-26|2025-02-26 15:52:...|\n",
      "|  8|   Hank Green|    Finance| 45|     M| 76000|2012-10-03|      Male|   Hank Green|2025-02-26|2025-02-26 15:52:...|\n",
      "|  9|    Ivy Adams|  Marketing| 28|     F| 73000|2020-01-22|    Female|    Ivy Adams|2025-02-26|2025-02-26 15:52:...|\n",
      "| 10|  Jack Carter|      Sales| 33|     M| 69000|2016-12-14|      Male|  Zack Carter|2025-02-26|2025-02-26 15:52:...|\n",
      "| 11|  Kevin Scott|         HR| 31|     M| 62000|2017-02-09|      Male|  Kevin Scott|2025-02-26|2025-02-26 15:52:...|\n",
      "| 12|   Liam Lewis|Engineering| 40|     M| 83000|2013-07-20|      Male|   Liam Lewis|2025-02-26|2025-02-26 15:52:...|\n",
      "| 13| Mia Martinez|    Finance| 39|     F| 77000|2014-08-30|    Female| Mia Martinez|2025-02-26|2025-02-26 15:52:...|\n",
      "| 14|Nathan Walker|  Marketing| 29|     M| 74000|2019-05-12|      Male|Nathan Walker|2025-02-26|2025-02-26 15:52:...|\n",
      "| 15|  Olivia Hall|      Sales| 26|     F| 70000|2022-03-08|    Female|  Olivia Hall|2025-02-26|2025-02-26 15:52:...|\n",
      "| 16|   Paul Young|         HR| 37|     M| 63000|2015-06-17|      Male|   Paul Young|2025-02-26|2025-02-26 15:52:...|\n",
      "| 17|  Quincy King|Engineering| 34|     M| 84000|2016-10-05|      Male|  Quincy King|2025-02-26|2025-02-26 15:52:...|\n",
      "| 18|Rachel Turner|    Finance| 42|     F| 78000|2012-11-23|    Female|Rachel Turner|2025-02-26|2025-02-26 15:52:...|\n",
      "| 19|Samuel Parker|  Marketing| 30|     M| 75000|2018-02-19|      Male|Samuel Parker|2025-02-26|2025-02-26 15:52:...|\n",
      "| 20|   Tina Evans|      Sales| 28|     F| 71000|2020-06-03|    Female|   Tina Evans|2025-02-26|2025-02-26 15:52:...|\n",
      "+---+-------------+-----------+---+------+------+----------+----------+-------------+----------+--------------------+\n",
      "only showing top 20 rows\n",
      "\n"
     ]
    }
   ],
   "source": [
    "# Drop Null gender records\n",
    "emp_1 = emp_dated.na.drop()\n",
    "emp_1.show()"
   ]
  },
  {
   "cell_type": "code",
   "execution_count": 39,
   "metadata": {},
   "outputs": [
    {
     "name": "stdout",
     "output_type": "stream",
     "text": [
      "+---+-------------+-----------+---+------+------+----------+----------+-------------+----------+--------------------+\n",
      "| id|         name| department|age|gender|salary| hire_date|new_gender|     new_name|  date_now|       timestamp_now|\n",
      "+---+-------------+-----------+---+------+------+----------+----------+-------------+----------+--------------------+\n",
      "|  1|Alice Johnson|         HR| 29|     F| 60000|2018-05-23|    Female|Alice Zohnson|2025-02-26|2025-02-26 15:53:...|\n",
      "|  2|    Bob Smith|Engineering| 35|     M| 80000|2016-07-19|      Male|    Bob Smith|2025-02-26|2025-02-26 15:53:...|\n",
      "|  3|Charlie Brown|    Finance| 41|     M| 75000|2015-06-10|      Male|Charlie Brown|2025-02-26|2025-02-26 15:53:...|\n",
      "|  4| David Wilson|  Marketing| 30|     M| 72000|2019-03-05|      Male| David Wilson|2025-02-26|2025-02-26 15:53:...|\n",
      "|  5|   Emma Davis|      Sales| 27|     F| 68000|2021-08-11|    Female|   Emma Davis|2025-02-26|2025-02-26 15:53:...|\n",
      "|  6| Frank Thomas|         HR| 32|     M| 61000|2017-04-28|      Male| Frank Thomas|2025-02-26|2025-02-26 15:53:...|\n",
      "|  7|  Grace White|Engineering| 38|     F| 82000|2014-09-15|    Female|  Grace White|2025-02-26|2025-02-26 15:53:...|\n",
      "|  8|   Hank Green|    Finance| 45|     M| 76000|2012-10-03|      Male|   Hank Green|2025-02-26|2025-02-26 15:53:...|\n",
      "|  9|    Ivy Adams|  Marketing| 28|     F| 73000|2020-01-22|    Female|    Ivy Adams|2025-02-26|2025-02-26 15:53:...|\n",
      "| 10|  Jack Carter|      Sales| 33|     M| 69000|2016-12-14|      Male|  Zack Carter|2025-02-26|2025-02-26 15:53:...|\n",
      "| 11|  Kevin Scott|         HR| 31|     M| 62000|2017-02-09|      Male|  Kevin Scott|2025-02-26|2025-02-26 15:53:...|\n",
      "| 12|   Liam Lewis|Engineering| 40|     M| 83000|2013-07-20|      Male|   Liam Lewis|2025-02-26|2025-02-26 15:53:...|\n",
      "| 13| Mia Martinez|    Finance| 39|     F| 77000|2014-08-30|    Female| Mia Martinez|2025-02-26|2025-02-26 15:53:...|\n",
      "| 14|Nathan Walker|  Marketing| 29|     M| 74000|2019-05-12|      Male|Nathan Walker|2025-02-26|2025-02-26 15:53:...|\n",
      "| 15|  Olivia Hall|      Sales| 26|     F| 70000|2022-03-08|    Female|  Olivia Hall|2025-02-26|2025-02-26 15:53:...|\n",
      "| 16|   Paul Young|         HR| 37|     M| 63000|2015-06-17|      Male|   Paul Young|2025-02-26|2025-02-26 15:53:...|\n",
      "| 17|  Quincy King|Engineering| 34|     M| 84000|2016-10-05|      Male|  Quincy King|2025-02-26|2025-02-26 15:53:...|\n",
      "| 18|Rachel Turner|    Finance| 42|     F| 78000|2012-11-23|    Female|Rachel Turner|2025-02-26|2025-02-26 15:53:...|\n",
      "| 19|Samuel Parker|  Marketing| 30|     M| 75000|2018-02-19|      Male|Samuel Parker|2025-02-26|2025-02-26 15:53:...|\n",
      "| 20|   Tina Evans|      Sales| 28|     F| 71000|2020-06-03|    Female|   Tina Evans|2025-02-26|2025-02-26 15:53:...|\n",
      "+---+-------------+-----------+---+------+------+----------+----------+-------------+----------+--------------------+\n",
      "only showing top 20 rows\n",
      "\n"
     ]
    }
   ],
   "source": [
    "# Fix Null values\n",
    "# select *, nvl('new_gender', 'O') as new_gender from emp_dated\n",
    "from pyspark.sql.functions import coalesce, lit\n",
    "\n",
    "emp_null_df = emp_dated.withColumn(\"new_gender\", coalesce(col(\"new_gender\"), lit(\"O\")))\n",
    "emp_null_df.show()"
   ]
  },
  {
   "cell_type": "code",
   "execution_count": 40,
   "metadata": {},
   "outputs": [],
   "source": [
    "# Drop old columns and Fix new column names\n",
    "emp_final = emp_null_df.drop(\"name\", \"gender\").withColumnRenamed(\"new_name\", \"name\").withColumnRenamed(\"new_gender\", \"gender\")"
   ]
  },
  {
   "cell_type": "code",
   "execution_count": 41,
   "metadata": {},
   "outputs": [
    {
     "name": "stdout",
     "output_type": "stream",
     "text": [
      "+---+-----------+---+------+----------+------+-------------+----------+--------------------+\n",
      "| id| department|age|salary| hire_date|gender|         name|  date_now|       timestamp_now|\n",
      "+---+-----------+---+------+----------+------+-------------+----------+--------------------+\n",
      "|  1|         HR| 29| 60000|2018-05-23|Female|Alice Zohnson|2025-02-26|2025-02-26 15:55:...|\n",
      "|  2|Engineering| 35| 80000|2016-07-19|  Male|    Bob Smith|2025-02-26|2025-02-26 15:55:...|\n",
      "|  3|    Finance| 41| 75000|2015-06-10|  Male|Charlie Brown|2025-02-26|2025-02-26 15:55:...|\n",
      "|  4|  Marketing| 30| 72000|2019-03-05|  Male| David Wilson|2025-02-26|2025-02-26 15:55:...|\n",
      "|  5|      Sales| 27| 68000|2021-08-11|Female|   Emma Davis|2025-02-26|2025-02-26 15:55:...|\n",
      "|  6|         HR| 32| 61000|2017-04-28|  Male| Frank Thomas|2025-02-26|2025-02-26 15:55:...|\n",
      "|  7|Engineering| 38| 82000|2014-09-15|Female|  Grace White|2025-02-26|2025-02-26 15:55:...|\n",
      "|  8|    Finance| 45| 76000|2012-10-03|  Male|   Hank Green|2025-02-26|2025-02-26 15:55:...|\n",
      "|  9|  Marketing| 28| 73000|2020-01-22|Female|    Ivy Adams|2025-02-26|2025-02-26 15:55:...|\n",
      "| 10|      Sales| 33| 69000|2016-12-14|  Male|  Zack Carter|2025-02-26|2025-02-26 15:55:...|\n",
      "| 11|         HR| 31| 62000|2017-02-09|  Male|  Kevin Scott|2025-02-26|2025-02-26 15:55:...|\n",
      "| 12|Engineering| 40| 83000|2013-07-20|  Male|   Liam Lewis|2025-02-26|2025-02-26 15:55:...|\n",
      "| 13|    Finance| 39| 77000|2014-08-30|Female| Mia Martinez|2025-02-26|2025-02-26 15:55:...|\n",
      "| 14|  Marketing| 29| 74000|2019-05-12|  Male|Nathan Walker|2025-02-26|2025-02-26 15:55:...|\n",
      "| 15|      Sales| 26| 70000|2022-03-08|Female|  Olivia Hall|2025-02-26|2025-02-26 15:55:...|\n",
      "| 16|         HR| 37| 63000|2015-06-17|  Male|   Paul Young|2025-02-26|2025-02-26 15:55:...|\n",
      "| 17|Engineering| 34| 84000|2016-10-05|  Male|  Quincy King|2025-02-26|2025-02-26 15:55:...|\n",
      "| 18|    Finance| 42| 78000|2012-11-23|Female|Rachel Turner|2025-02-26|2025-02-26 15:55:...|\n",
      "| 19|  Marketing| 30| 75000|2018-02-19|  Male|Samuel Parker|2025-02-26|2025-02-26 15:55:...|\n",
      "| 20|      Sales| 28| 71000|2020-06-03|Female|   Tina Evans|2025-02-26|2025-02-26 15:55:...|\n",
      "+---+-----------+---+------+----------+------+-------------+----------+--------------------+\n",
      "only showing top 20 rows\n",
      "\n"
     ]
    }
   ],
   "source": [
    "emp_final.show()"
   ]
  },
  {
   "cell_type": "code",
   "execution_count": 42,
   "metadata": {},
   "outputs": [
    {
     "name": "stderr",
     "output_type": "stream",
     "text": [
      "                                                                                \r"
     ]
    }
   ],
   "source": [
    "emp_final.write.format('csv').save('retail-data/finalfixedemployee.csv')"
   ]
  }
 ],
 "metadata": {
  "kernelspec": {
   "display_name": "Python 3",
   "language": "python",
   "name": "python3"
  },
  "language_info": {
   "codemirror_mode": {
    "name": "ipython",
    "version": 3
   },
   "file_extension": ".py",
   "mimetype": "text/x-python",
   "name": "python",
   "nbconvert_exporter": "python",
   "pygments_lexer": "ipython3",
   "version": "3.12.1"
  }
 },
 "nbformat": 4,
 "nbformat_minor": 2
}
