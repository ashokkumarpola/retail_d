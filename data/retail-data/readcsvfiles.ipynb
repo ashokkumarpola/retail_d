{
 "cells": [
  {
   "cell_type": "code",
   "execution_count": 14,
   "metadata": {},
   "outputs": [],
   "source": [
    "# Spark Session\n",
    "from pyspark.sql import SparkSession\n",
    "\n",
    "\n",
    "spark = (\n",
    "    SparkSession\n",
    "    .builder\n",
    "    .appName(\"Reading from CSV Files\")\n",
    "    .master(\"local[*]\")  # Specify UI port explicitly\n",
    "    .getOrCreate()\n",
    ")"
   ]
  },
  {
   "cell_type": "code",
   "execution_count": 15,
   "metadata": {},
   "outputs": [
    {
     "name": "stdout",
     "output_type": "stream",
     "text": [
      "root\n",
      " |-- employee_id: integer (nullable = true)\n",
      " |-- department_id: integer (nullable = true)\n",
      " |-- name: string (nullable = true)\n",
      " |-- age: integer (nullable = true)\n",
      " |-- gender: string (nullable = true)\n",
      " |-- salary: integer (nullable = true)\n",
      " |-- hire_date: date (nullable = true)\n",
      "\n"
     ]
    }
   ],
   "source": [
    "df = spark.read.format(\"csv\").option(\"header\", True).option(\"inferSchema\", True).load(\"/workspaces/retail_d/data/retail-data/emp.csv\")\n",
    "df.printSchema()"
   ]
  },
  {
   "cell_type": "code",
   "execution_count": 16,
   "metadata": {},
   "outputs": [
    {
     "name": "stdout",
     "output_type": "stream",
     "text": [
      "+-----------+-------------+-------------+---+------+------+----------+\n",
      "|employee_id|department_id|         name|age|gender|salary| hire_date|\n",
      "+-----------+-------------+-------------+---+------+------+----------+\n",
      "|          1|          101|     John Doe| 30|  Male| 50000|2015-01-01|\n",
      "|          2|          101|   Jane Smith| 25|Female| 45000|2016-02-15|\n",
      "|          3|          102|    Bob Brown| 35|  Male| 55000|2014-05-01|\n",
      "|          4|          102|    Alice Lee| 28|Female| 48000|2017-09-30|\n",
      "|          5|          103|    Jack Chan| 40|  Male| 60000|2013-04-01|\n",
      "|          6|          103|    Jill Wong| 32|Female| 52000|2018-07-01|\n",
      "|          7|          101|James Johnson| 42|  Male| 70000|2012-03-15|\n",
      "|          8|          102|     Kate Kim| 29|Female| 51000|2019-10-01|\n",
      "|          9|          103|      Tom Tan| 33|  Male| 58000|2016-06-01|\n",
      "|         10|          104|     Lisa Lee| 27|Female| 47000|2018-08-01|\n",
      "|         11|          104|   David Park| 38|  Male| 65000|2015-11-01|\n",
      "|         12|          105|   Susan Chen| 31|Female| 54000|2017-02-15|\n",
      "|         13|          106|    Brian Kim| 45|  Male| 75000|2011-07-01|\n",
      "|         14|          107|    Emily Lee| 26|Female| 46000|2019-01-01|\n",
      "|         15|          106|  Michael Lee| 37|  Male| 63000|2014-09-30|\n",
      "|         16|          107|  Kelly Zhang| 30|Female| 49000|2018-04-01|\n",
      "|         17|          105|  George Wang| 34|  Male| 57000|2016-03-15|\n",
      "|         18|          104|    Nancy Liu| 29|Female| 50000|2017-06-01|\n",
      "|         19|          103|  Steven Chen| 36|  Male| 62000|2015-08-01|\n",
      "|         20|          102|    Grace Kim| 32|Female| 53000|2018-11-01|\n",
      "+-----------+-------------+-------------+---+------+------+----------+\n",
      "\n"
     ]
    }
   ],
   "source": [
    "df.show()"
   ]
  }
 ],
 "metadata": {
  "kernelspec": {
   "display_name": "Python 3",
   "language": "python",
   "name": "python3"
  },
  "language_info": {
   "codemirror_mode": {
    "name": "ipython",
    "version": 3
   },
   "file_extension": ".py",
   "mimetype": "text/x-python",
   "name": "python",
   "nbconvert_exporter": "python",
   "pygments_lexer": "ipython3",
   "version": "3.12.1"
  }
 },
 "nbformat": 4,
 "nbformat_minor": 2
}
